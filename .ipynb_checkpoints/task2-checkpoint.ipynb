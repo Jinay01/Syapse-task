{
 "cells": [
  {
   "cell_type": "code",
   "execution_count": null,
   "metadata": {
    "scrolled": true
   },
   "outputs": [],
   "source": [
    "# method 1 but how to add amount\n",
    "\n",
    "import json \n",
    "import csv\n",
    "import pandas as pd\n",
    "\n",
    "with open('Desktop\\practice\\data-viz-challenge-master\\data.json') as file:\n",
    "    js_data = json.load(file)\n",
    "    \n",
    "data12 = 'Desktop\\practice\\data18.csv'\n",
    "\n",
    "with open(data12,'w') as file:\n",
    "    csv_file = csv.writer(file)\n",
    "    csv_file.writerow(['category','event_name','gender',\"marital_status\", \"session_id\",\"device\",\"amount\",\"age\",\"client_time\",\"location\"])\n",
    "    for item in js_data['data']:\n",
    "        csv_file.writerow([item['category'],item['event_name'],item['gender'],item[\"marital_status\"],item[\"session_id\"],item[\"device\"],item['amount'],item[\"age\"],item[\"client_time\"],item[\"location\"]])\n",
    "        "
   ]
  },
  {
   "cell_type": "code",
   "execution_count": 121,
   "metadata": {},
   "outputs": [
    {
     "data": {
      "text/html": [
       "<div>\n",
       "<style scoped>\n",
       "    .dataframe tbody tr th:only-of-type {\n",
       "        vertical-align: middle;\n",
       "    }\n",
       "\n",
       "    .dataframe tbody tr th {\n",
       "        vertical-align: top;\n",
       "    }\n",
       "\n",
       "    .dataframe thead th {\n",
       "        text-align: right;\n",
       "    }\n",
       "</style>\n",
       "<table border=\"1\" class=\"dataframe\">\n",
       "  <thead>\n",
       "    <tr style=\"text-align: right;\">\n",
       "      <th></th>\n",
       "      <th>category</th>\n",
       "      <th>event_name</th>\n",
       "      <th>gender</th>\n",
       "      <th>age</th>\n",
       "      <th>marital_status</th>\n",
       "      <th>session_id</th>\n",
       "      <th>device</th>\n",
       "      <th>client_time</th>\n",
       "      <th>location</th>\n",
       "      <th>amount</th>\n",
       "    </tr>\n",
       "  </thead>\n",
       "  <tbody>\n",
       "    <tr>\n",
       "      <th>0</th>\n",
       "      <td>Sports</td>\n",
       "      <td>View Project</td>\n",
       "      <td>M</td>\n",
       "      <td>18-24</td>\n",
       "      <td>married</td>\n",
       "      <td>69f62d2ae87640f5a2dde2b2e9229fe6</td>\n",
       "      <td>android</td>\n",
       "      <td>1393632004</td>\n",
       "      <td>{'latitude': 40.189788, 'city': 'Lyons', 'stat...</td>\n",
       "      <td>NaN</td>\n",
       "    </tr>\n",
       "    <tr>\n",
       "      <th>1</th>\n",
       "      <td>Technology</td>\n",
       "      <td>View Project</td>\n",
       "      <td>M</td>\n",
       "      <td>18-24</td>\n",
       "      <td>single</td>\n",
       "      <td>4459d001feb8438eae5f4ec24abcd992</td>\n",
       "      <td>iOS</td>\n",
       "      <td>1393632022</td>\n",
       "      <td>{'latitude': 33.844371, 'city': 'Alpharetta', ...</td>\n",
       "      <td>NaN</td>\n",
       "    </tr>\n",
       "    <tr>\n",
       "      <th>2</th>\n",
       "      <td>Environment</td>\n",
       "      <td>View Project</td>\n",
       "      <td>M</td>\n",
       "      <td>55+</td>\n",
       "      <td>single</td>\n",
       "      <td>0db9ed700a184d48a9d04806696e3642</td>\n",
       "      <td>iOS</td>\n",
       "      <td>1393632032</td>\n",
       "      <td>{'latitude': 42.446396, 'city': 'Westford', 's...</td>\n",
       "      <td>NaN</td>\n",
       "    </tr>\n",
       "    <tr>\n",
       "      <th>3</th>\n",
       "      <td>Technology</td>\n",
       "      <td>View Project</td>\n",
       "      <td>M</td>\n",
       "      <td>18-24</td>\n",
       "      <td>single</td>\n",
       "      <td>68195e2372bd4022b17220fc21de9138</td>\n",
       "      <td>android</td>\n",
       "      <td>1393632038</td>\n",
       "      <td>{'latitude': 44.624413, 'city': 'Saranac', 'st...</td>\n",
       "      <td>NaN</td>\n",
       "    </tr>\n",
       "    <tr>\n",
       "      <th>4</th>\n",
       "      <td>Sports</td>\n",
       "      <td>View Project</td>\n",
       "      <td>F</td>\n",
       "      <td>25-34</td>\n",
       "      <td>married</td>\n",
       "      <td>9508a8385dc94773baba8aa7d1c2aa75</td>\n",
       "      <td>iOS</td>\n",
       "      <td>1393632051</td>\n",
       "      <td>{'latitude': 36.747083, 'city': 'Lampe', 'stat...</td>\n",
       "      <td>NaN</td>\n",
       "    </tr>\n",
       "    <tr>\n",
       "      <th>...</th>\n",
       "      <td>...</td>\n",
       "      <td>...</td>\n",
       "      <td>...</td>\n",
       "      <td>...</td>\n",
       "      <td>...</td>\n",
       "      <td>...</td>\n",
       "      <td>...</td>\n",
       "      <td>...</td>\n",
       "      <td>...</td>\n",
       "      <td>...</td>\n",
       "    </tr>\n",
       "    <tr>\n",
       "      <th>49995</th>\n",
       "      <td>Sports</td>\n",
       "      <td>Fund Project</td>\n",
       "      <td>F</td>\n",
       "      <td>18-24</td>\n",
       "      <td>married</td>\n",
       "      <td>412b973788704c36a008a506cdbba033</td>\n",
       "      <td>iOS</td>\n",
       "      <td>1396309720</td>\n",
       "      <td>{'latitude': 45.343615, 'city': 'West Linn', '...</td>\n",
       "      <td>35.0</td>\n",
       "    </tr>\n",
       "    <tr>\n",
       "      <th>49996</th>\n",
       "      <td>Technology</td>\n",
       "      <td>View Project</td>\n",
       "      <td>F</td>\n",
       "      <td>45-54</td>\n",
       "      <td>single</td>\n",
       "      <td>4addd36a6f4347c59865fe04a92e8d57</td>\n",
       "      <td>android</td>\n",
       "      <td>1396309769</td>\n",
       "      <td>{'latitude': 41.079983, 'city': 'Greenwich', '...</td>\n",
       "      <td>NaN</td>\n",
       "    </tr>\n",
       "    <tr>\n",
       "      <th>49997</th>\n",
       "      <td>Fashion</td>\n",
       "      <td>View Project</td>\n",
       "      <td>F</td>\n",
       "      <td>25-34</td>\n",
       "      <td>single</td>\n",
       "      <td>3181a138a0b94d1da9a3d29f7816fcc7</td>\n",
       "      <td>iOS</td>\n",
       "      <td>1396309893</td>\n",
       "      <td>{'latitude': 40.36502, 'city': 'Irwin', 'state...</td>\n",
       "      <td>NaN</td>\n",
       "    </tr>\n",
       "    <tr>\n",
       "      <th>49998</th>\n",
       "      <td>Sports</td>\n",
       "      <td>Fund Project</td>\n",
       "      <td>F</td>\n",
       "      <td>35-44</td>\n",
       "      <td>married</td>\n",
       "      <td>2df6b9a0c66b48a389330327517b9276</td>\n",
       "      <td>iOS</td>\n",
       "      <td>1396309968</td>\n",
       "      <td>{'latitude': 39.477625, 'city': 'Martinsville'...</td>\n",
       "      <td>37.0</td>\n",
       "    </tr>\n",
       "    <tr>\n",
       "      <th>49999</th>\n",
       "      <td>Fashion</td>\n",
       "      <td>View Project</td>\n",
       "      <td>M</td>\n",
       "      <td>18-24</td>\n",
       "      <td>single</td>\n",
       "      <td>fc24339bfda84ff29102981cbee78023</td>\n",
       "      <td>iOS</td>\n",
       "      <td>1396310325</td>\n",
       "      <td>{'latitude': 45.408374, 'city': 'Lake Oswego',...</td>\n",
       "      <td>NaN</td>\n",
       "    </tr>\n",
       "  </tbody>\n",
       "</table>\n",
       "<p>50000 rows × 10 columns</p>\n",
       "</div>"
      ],
      "text/plain": [
       "          category    event_name gender    age marital_status  \\\n",
       "0           Sports  View Project      M  18-24        married   \n",
       "1       Technology  View Project      M  18-24         single   \n",
       "2      Environment  View Project      M    55+         single   \n",
       "3       Technology  View Project      M  18-24         single   \n",
       "4           Sports  View Project      F  25-34        married   \n",
       "...            ...           ...    ...    ...            ...   \n",
       "49995       Sports  Fund Project      F  18-24        married   \n",
       "49996   Technology  View Project      F  45-54         single   \n",
       "49997      Fashion  View Project      F  25-34         single   \n",
       "49998       Sports  Fund Project      F  35-44        married   \n",
       "49999      Fashion  View Project      M  18-24         single   \n",
       "\n",
       "                             session_id   device  client_time  \\\n",
       "0      69f62d2ae87640f5a2dde2b2e9229fe6  android   1393632004   \n",
       "1      4459d001feb8438eae5f4ec24abcd992      iOS   1393632022   \n",
       "2      0db9ed700a184d48a9d04806696e3642      iOS   1393632032   \n",
       "3      68195e2372bd4022b17220fc21de9138  android   1393632038   \n",
       "4      9508a8385dc94773baba8aa7d1c2aa75      iOS   1393632051   \n",
       "...                                 ...      ...          ...   \n",
       "49995  412b973788704c36a008a506cdbba033      iOS   1396309720   \n",
       "49996  4addd36a6f4347c59865fe04a92e8d57  android   1396309769   \n",
       "49997  3181a138a0b94d1da9a3d29f7816fcc7      iOS   1396309893   \n",
       "49998  2df6b9a0c66b48a389330327517b9276      iOS   1396309968   \n",
       "49999  fc24339bfda84ff29102981cbee78023      iOS   1396310325   \n",
       "\n",
       "                                                location  amount  \n",
       "0      {'latitude': 40.189788, 'city': 'Lyons', 'stat...     NaN  \n",
       "1      {'latitude': 33.844371, 'city': 'Alpharetta', ...     NaN  \n",
       "2      {'latitude': 42.446396, 'city': 'Westford', 's...     NaN  \n",
       "3      {'latitude': 44.624413, 'city': 'Saranac', 'st...     NaN  \n",
       "4      {'latitude': 36.747083, 'city': 'Lampe', 'stat...     NaN  \n",
       "...                                                  ...     ...  \n",
       "49995  {'latitude': 45.343615, 'city': 'West Linn', '...    35.0  \n",
       "49996  {'latitude': 41.079983, 'city': 'Greenwich', '...     NaN  \n",
       "49997  {'latitude': 40.36502, 'city': 'Irwin', 'state...     NaN  \n",
       "49998  {'latitude': 39.477625, 'city': 'Martinsville'...    37.0  \n",
       "49999  {'latitude': 45.408374, 'city': 'Lake Oswego',...     NaN  \n",
       "\n",
       "[50000 rows x 10 columns]"
      ]
     },
     "execution_count": 121,
     "metadata": {},
     "output_type": "execute_result"
    }
   ],
   "source": [
    "# method 2\n",
    "\n",
    "import json\n",
    "import pandas as pd\n",
    "df = pd.read_json('https://raw.githubusercontent.com/theand9/data-viz-challenge/master/data.json')\n",
    "table = pd.DataFrame([i for i in df.data])\n",
    "table\n"
   ]
  },
  {
   "cell_type": "code",
   "execution_count": 122,
   "metadata": {},
   "outputs": [
    {
     "data": {
      "text/html": [
       "<div>\n",
       "<style scoped>\n",
       "    .dataframe tbody tr th:only-of-type {\n",
       "        vertical-align: middle;\n",
       "    }\n",
       "\n",
       "    .dataframe tbody tr th {\n",
       "        vertical-align: top;\n",
       "    }\n",
       "\n",
       "    .dataframe thead th {\n",
       "        text-align: right;\n",
       "    }\n",
       "</style>\n",
       "<table border=\"1\" class=\"dataframe\">\n",
       "  <thead>\n",
       "    <tr style=\"text-align: right;\">\n",
       "      <th></th>\n",
       "      <th>category</th>\n",
       "      <th>event_name</th>\n",
       "      <th>gender</th>\n",
       "      <th>age</th>\n",
       "      <th>marital_status</th>\n",
       "      <th>session_id</th>\n",
       "      <th>device</th>\n",
       "      <th>client_time</th>\n",
       "      <th>location</th>\n",
       "      <th>amount</th>\n",
       "    </tr>\n",
       "  </thead>\n",
       "  <tbody>\n",
       "    <tr>\n",
       "      <th>0</th>\n",
       "      <td>Sports</td>\n",
       "      <td>View Project</td>\n",
       "      <td>M</td>\n",
       "      <td>18-24</td>\n",
       "      <td>married</td>\n",
       "      <td>69f62d2ae87640f5a2dde2b2e9229fe6</td>\n",
       "      <td>android</td>\n",
       "      <td>1393632004</td>\n",
       "      <td>{'latitude': 40.189788, 'city': 'Lyons', 'stat...</td>\n",
       "      <td>NaN</td>\n",
       "    </tr>\n",
       "    <tr>\n",
       "      <th>4</th>\n",
       "      <td>Sports</td>\n",
       "      <td>View Project</td>\n",
       "      <td>F</td>\n",
       "      <td>25-34</td>\n",
       "      <td>married</td>\n",
       "      <td>9508a8385dc94773baba8aa7d1c2aa75</td>\n",
       "      <td>iOS</td>\n",
       "      <td>1393632051</td>\n",
       "      <td>{'latitude': 36.747083, 'city': 'Lampe', 'stat...</td>\n",
       "      <td>NaN</td>\n",
       "    </tr>\n",
       "    <tr>\n",
       "      <th>12</th>\n",
       "      <td>Sports</td>\n",
       "      <td>View Project</td>\n",
       "      <td>F</td>\n",
       "      <td>18-24</td>\n",
       "      <td>married</td>\n",
       "      <td>a1fdfe0bebed4510a9059bcfb3ba1325</td>\n",
       "      <td>iOS</td>\n",
       "      <td>1393632171</td>\n",
       "      <td>{'latitude': 33.794055, 'city': 'Atlanta', 'st...</td>\n",
       "      <td>NaN</td>\n",
       "    </tr>\n",
       "    <tr>\n",
       "      <th>16</th>\n",
       "      <td>Sports</td>\n",
       "      <td>Fund Project</td>\n",
       "      <td>M</td>\n",
       "      <td>18-24</td>\n",
       "      <td>married</td>\n",
       "      <td>69f62d2ae87640f5a2dde2b2e9229fe6</td>\n",
       "      <td>android</td>\n",
       "      <td>1393632200</td>\n",
       "      <td>{'latitude': 40.189788, 'city': 'Lyons', 'stat...</td>\n",
       "      <td>31.0</td>\n",
       "    </tr>\n",
       "    <tr>\n",
       "      <th>21</th>\n",
       "      <td>Sports</td>\n",
       "      <td>View Project</td>\n",
       "      <td>U</td>\n",
       "      <td>18-24</td>\n",
       "      <td>married</td>\n",
       "      <td>be389e9be0e74398adcef3292ac409ee</td>\n",
       "      <td>android</td>\n",
       "      <td>1393632233</td>\n",
       "      <td>{'latitude': 45.408374, 'city': 'Lake Oswego',...</td>\n",
       "      <td>NaN</td>\n",
       "    </tr>\n",
       "    <tr>\n",
       "      <th>...</th>\n",
       "      <td>...</td>\n",
       "      <td>...</td>\n",
       "      <td>...</td>\n",
       "      <td>...</td>\n",
       "      <td>...</td>\n",
       "      <td>...</td>\n",
       "      <td>...</td>\n",
       "      <td>...</td>\n",
       "      <td>...</td>\n",
       "      <td>...</td>\n",
       "    </tr>\n",
       "    <tr>\n",
       "      <th>49979</th>\n",
       "      <td>Sports</td>\n",
       "      <td>View Project</td>\n",
       "      <td>M</td>\n",
       "      <td>18-24</td>\n",
       "      <td>married</td>\n",
       "      <td>0ec5637e5bf54cf5bcccdb95ac3f9c0f</td>\n",
       "      <td>iOS</td>\n",
       "      <td>1396308090</td>\n",
       "      <td>{'latitude': 45.343615, 'city': 'West Linn', '...</td>\n",
       "      <td>NaN</td>\n",
       "    </tr>\n",
       "    <tr>\n",
       "      <th>49981</th>\n",
       "      <td>Sports</td>\n",
       "      <td>Fund Project</td>\n",
       "      <td>F</td>\n",
       "      <td>18-24</td>\n",
       "      <td>single</td>\n",
       "      <td>6fd296b7c5b34eaa829b3f5482ea56cc</td>\n",
       "      <td>android</td>\n",
       "      <td>1396308417</td>\n",
       "      <td>{'latitude': 40.067772, 'city': 'Boulder', 'st...</td>\n",
       "      <td>48.0</td>\n",
       "    </tr>\n",
       "    <tr>\n",
       "      <th>49989</th>\n",
       "      <td>Sports</td>\n",
       "      <td>Fund Project</td>\n",
       "      <td>M</td>\n",
       "      <td>18-24</td>\n",
       "      <td>single</td>\n",
       "      <td>4829aa471c6b431fa023076746f7476f</td>\n",
       "      <td>iOS</td>\n",
       "      <td>1396309022</td>\n",
       "      <td>{'latitude': 39.872535, 'city': 'Westminster',...</td>\n",
       "      <td>37.0</td>\n",
       "    </tr>\n",
       "    <tr>\n",
       "      <th>49995</th>\n",
       "      <td>Sports</td>\n",
       "      <td>Fund Project</td>\n",
       "      <td>F</td>\n",
       "      <td>18-24</td>\n",
       "      <td>married</td>\n",
       "      <td>412b973788704c36a008a506cdbba033</td>\n",
       "      <td>iOS</td>\n",
       "      <td>1396309720</td>\n",
       "      <td>{'latitude': 45.343615, 'city': 'West Linn', '...</td>\n",
       "      <td>35.0</td>\n",
       "    </tr>\n",
       "    <tr>\n",
       "      <th>49998</th>\n",
       "      <td>Sports</td>\n",
       "      <td>Fund Project</td>\n",
       "      <td>F</td>\n",
       "      <td>35-44</td>\n",
       "      <td>married</td>\n",
       "      <td>2df6b9a0c66b48a389330327517b9276</td>\n",
       "      <td>iOS</td>\n",
       "      <td>1396309968</td>\n",
       "      <td>{'latitude': 39.477625, 'city': 'Martinsville'...</td>\n",
       "      <td>37.0</td>\n",
       "    </tr>\n",
       "  </tbody>\n",
       "</table>\n",
       "<p>10099 rows × 10 columns</p>\n",
       "</div>"
      ],
      "text/plain": [
       "      category    event_name gender    age marital_status  \\\n",
       "0       Sports  View Project      M  18-24        married   \n",
       "4       Sports  View Project      F  25-34        married   \n",
       "12      Sports  View Project      F  18-24        married   \n",
       "16      Sports  Fund Project      M  18-24        married   \n",
       "21      Sports  View Project      U  18-24        married   \n",
       "...        ...           ...    ...    ...            ...   \n",
       "49979   Sports  View Project      M  18-24        married   \n",
       "49981   Sports  Fund Project      F  18-24         single   \n",
       "49989   Sports  Fund Project      M  18-24         single   \n",
       "49995   Sports  Fund Project      F  18-24        married   \n",
       "49998   Sports  Fund Project      F  35-44        married   \n",
       "\n",
       "                             session_id   device  client_time  \\\n",
       "0      69f62d2ae87640f5a2dde2b2e9229fe6  android   1393632004   \n",
       "4      9508a8385dc94773baba8aa7d1c2aa75      iOS   1393632051   \n",
       "12     a1fdfe0bebed4510a9059bcfb3ba1325      iOS   1393632171   \n",
       "16     69f62d2ae87640f5a2dde2b2e9229fe6  android   1393632200   \n",
       "21     be389e9be0e74398adcef3292ac409ee  android   1393632233   \n",
       "...                                 ...      ...          ...   \n",
       "49979  0ec5637e5bf54cf5bcccdb95ac3f9c0f      iOS   1396308090   \n",
       "49981  6fd296b7c5b34eaa829b3f5482ea56cc  android   1396308417   \n",
       "49989  4829aa471c6b431fa023076746f7476f      iOS   1396309022   \n",
       "49995  412b973788704c36a008a506cdbba033      iOS   1396309720   \n",
       "49998  2df6b9a0c66b48a389330327517b9276      iOS   1396309968   \n",
       "\n",
       "                                                location  amount  \n",
       "0      {'latitude': 40.189788, 'city': 'Lyons', 'stat...     NaN  \n",
       "4      {'latitude': 36.747083, 'city': 'Lampe', 'stat...     NaN  \n",
       "12     {'latitude': 33.794055, 'city': 'Atlanta', 'st...     NaN  \n",
       "16     {'latitude': 40.189788, 'city': 'Lyons', 'stat...    31.0  \n",
       "21     {'latitude': 45.408374, 'city': 'Lake Oswego',...     NaN  \n",
       "...                                                  ...     ...  \n",
       "49979  {'latitude': 45.343615, 'city': 'West Linn', '...     NaN  \n",
       "49981  {'latitude': 40.067772, 'city': 'Boulder', 'st...    48.0  \n",
       "49989  {'latitude': 39.872535, 'city': 'Westminster',...    37.0  \n",
       "49995  {'latitude': 45.343615, 'city': 'West Linn', '...    35.0  \n",
       "49998  {'latitude': 39.477625, 'city': 'Martinsville'...    37.0  \n",
       "\n",
       "[10099 rows x 10 columns]"
      ]
     },
     "execution_count": 122,
     "metadata": {},
     "output_type": "execute_result"
    }
   ],
   "source": [
    "sport_environment = table[(table.category== 'Sports')|(table.category == 'Enviroment')]\n",
    "# or \n",
    "sport_enviroment = table[table.category.isin(['Sports','Enviroment'])]\n",
    "sport_environment"
   ]
  },
  {
   "cell_type": "code",
   "execution_count": 123,
   "metadata": {},
   "outputs": [
    {
     "data": {
      "text/html": [
       "<div>\n",
       "<style scoped>\n",
       "    .dataframe tbody tr th:only-of-type {\n",
       "        vertical-align: middle;\n",
       "    }\n",
       "\n",
       "    .dataframe tbody tr th {\n",
       "        vertical-align: top;\n",
       "    }\n",
       "\n",
       "    .dataframe thead th {\n",
       "        text-align: right;\n",
       "    }\n",
       "</style>\n",
       "<table border=\"1\" class=\"dataframe\">\n",
       "  <thead>\n",
       "    <tr style=\"text-align: right;\">\n",
       "      <th></th>\n",
       "      <th>category</th>\n",
       "      <th>event_name</th>\n",
       "      <th>gender</th>\n",
       "      <th>age</th>\n",
       "      <th>marital_status</th>\n",
       "      <th>session_id</th>\n",
       "      <th>device</th>\n",
       "      <th>client_time</th>\n",
       "      <th>location</th>\n",
       "      <th>amount</th>\n",
       "    </tr>\n",
       "  </thead>\n",
       "  <tbody>\n",
       "    <tr>\n",
       "      <th>16</th>\n",
       "      <td>Sports</td>\n",
       "      <td>Fund Project</td>\n",
       "      <td>M</td>\n",
       "      <td>18-24</td>\n",
       "      <td>married</td>\n",
       "      <td>69f62d2ae87640f5a2dde2b2e9229fe6</td>\n",
       "      <td>android</td>\n",
       "      <td>1393632200</td>\n",
       "      <td>{'latitude': 40.189788, 'city': 'Lyons', 'stat...</td>\n",
       "      <td>31.0</td>\n",
       "    </tr>\n",
       "    <tr>\n",
       "      <th>35</th>\n",
       "      <td>Sports</td>\n",
       "      <td>Fund Project</td>\n",
       "      <td>M</td>\n",
       "      <td>18-24</td>\n",
       "      <td>married</td>\n",
       "      <td>be389e9be0e74398adcef3292ac409ee</td>\n",
       "      <td>android</td>\n",
       "      <td>1393632395</td>\n",
       "      <td>{'latitude': 45.408374, 'city': 'Lake Oswego',...</td>\n",
       "      <td>40.0</td>\n",
       "    </tr>\n",
       "    <tr>\n",
       "      <th>78</th>\n",
       "      <td>Sports</td>\n",
       "      <td>Fund Project</td>\n",
       "      <td>F</td>\n",
       "      <td>18-24</td>\n",
       "      <td>single</td>\n",
       "      <td>71ca342ead4f4da180da4f9b4baaf760</td>\n",
       "      <td>android</td>\n",
       "      <td>1393633118</td>\n",
       "      <td>{'latitude': 33.844371, 'city': 'Alpharetta', ...</td>\n",
       "      <td>53.0</td>\n",
       "    </tr>\n",
       "    <tr>\n",
       "      <th>100</th>\n",
       "      <td>Sports</td>\n",
       "      <td>Fund Project</td>\n",
       "      <td>F</td>\n",
       "      <td>18-24</td>\n",
       "      <td>married</td>\n",
       "      <td>a1fdfe0bebed4510a9059bcfb3ba1325</td>\n",
       "      <td>iOS</td>\n",
       "      <td>1393633458</td>\n",
       "      <td>{'latitude': 33.794055, 'city': 'Atlanta', 'st...</td>\n",
       "      <td>48.0</td>\n",
       "    </tr>\n",
       "    <tr>\n",
       "      <th>131</th>\n",
       "      <td>Sports</td>\n",
       "      <td>Fund Project</td>\n",
       "      <td>M</td>\n",
       "      <td>45-54</td>\n",
       "      <td>single</td>\n",
       "      <td>d23a964e8656403b853eb2a24139c408</td>\n",
       "      <td>android</td>\n",
       "      <td>1393633861</td>\n",
       "      <td>{'latitude': 39.102704, 'city': 'Kansas City',...</td>\n",
       "      <td>27.0</td>\n",
       "    </tr>\n",
       "    <tr>\n",
       "      <th>...</th>\n",
       "      <td>...</td>\n",
       "      <td>...</td>\n",
       "      <td>...</td>\n",
       "      <td>...</td>\n",
       "      <td>...</td>\n",
       "      <td>...</td>\n",
       "      <td>...</td>\n",
       "      <td>...</td>\n",
       "      <td>...</td>\n",
       "      <td>...</td>\n",
       "    </tr>\n",
       "    <tr>\n",
       "      <th>49974</th>\n",
       "      <td>Sports</td>\n",
       "      <td>Fund Project</td>\n",
       "      <td>F</td>\n",
       "      <td>35-44</td>\n",
       "      <td>married</td>\n",
       "      <td>505d90b033ee4f44b7e2132c3c2da85c</td>\n",
       "      <td>android</td>\n",
       "      <td>1396307666</td>\n",
       "      <td>{'latitude': 42.752844, 'city': 'Haverhill', '...</td>\n",
       "      <td>12.0</td>\n",
       "    </tr>\n",
       "    <tr>\n",
       "      <th>49981</th>\n",
       "      <td>Sports</td>\n",
       "      <td>Fund Project</td>\n",
       "      <td>F</td>\n",
       "      <td>18-24</td>\n",
       "      <td>single</td>\n",
       "      <td>6fd296b7c5b34eaa829b3f5482ea56cc</td>\n",
       "      <td>android</td>\n",
       "      <td>1396308417</td>\n",
       "      <td>{'latitude': 40.067772, 'city': 'Boulder', 'st...</td>\n",
       "      <td>48.0</td>\n",
       "    </tr>\n",
       "    <tr>\n",
       "      <th>49989</th>\n",
       "      <td>Sports</td>\n",
       "      <td>Fund Project</td>\n",
       "      <td>M</td>\n",
       "      <td>18-24</td>\n",
       "      <td>single</td>\n",
       "      <td>4829aa471c6b431fa023076746f7476f</td>\n",
       "      <td>iOS</td>\n",
       "      <td>1396309022</td>\n",
       "      <td>{'latitude': 39.872535, 'city': 'Westminster',...</td>\n",
       "      <td>37.0</td>\n",
       "    </tr>\n",
       "    <tr>\n",
       "      <th>49995</th>\n",
       "      <td>Sports</td>\n",
       "      <td>Fund Project</td>\n",
       "      <td>F</td>\n",
       "      <td>18-24</td>\n",
       "      <td>married</td>\n",
       "      <td>412b973788704c36a008a506cdbba033</td>\n",
       "      <td>iOS</td>\n",
       "      <td>1396309720</td>\n",
       "      <td>{'latitude': 45.343615, 'city': 'West Linn', '...</td>\n",
       "      <td>35.0</td>\n",
       "    </tr>\n",
       "    <tr>\n",
       "      <th>49998</th>\n",
       "      <td>Sports</td>\n",
       "      <td>Fund Project</td>\n",
       "      <td>F</td>\n",
       "      <td>35-44</td>\n",
       "      <td>married</td>\n",
       "      <td>2df6b9a0c66b48a389330327517b9276</td>\n",
       "      <td>iOS</td>\n",
       "      <td>1396309968</td>\n",
       "      <td>{'latitude': 39.477625, 'city': 'Martinsville'...</td>\n",
       "      <td>37.0</td>\n",
       "    </tr>\n",
       "  </tbody>\n",
       "</table>\n",
       "<p>4179 rows × 10 columns</p>\n",
       "</div>"
      ],
      "text/plain": [
       "      category    event_name gender    age marital_status  \\\n",
       "16      Sports  Fund Project      M  18-24        married   \n",
       "35      Sports  Fund Project      M  18-24        married   \n",
       "78      Sports  Fund Project      F  18-24         single   \n",
       "100     Sports  Fund Project      F  18-24        married   \n",
       "131     Sports  Fund Project      M  45-54         single   \n",
       "...        ...           ...    ...    ...            ...   \n",
       "49974   Sports  Fund Project      F  35-44        married   \n",
       "49981   Sports  Fund Project      F  18-24         single   \n",
       "49989   Sports  Fund Project      M  18-24         single   \n",
       "49995   Sports  Fund Project      F  18-24        married   \n",
       "49998   Sports  Fund Project      F  35-44        married   \n",
       "\n",
       "                             session_id   device  client_time  \\\n",
       "16     69f62d2ae87640f5a2dde2b2e9229fe6  android   1393632200   \n",
       "35     be389e9be0e74398adcef3292ac409ee  android   1393632395   \n",
       "78     71ca342ead4f4da180da4f9b4baaf760  android   1393633118   \n",
       "100    a1fdfe0bebed4510a9059bcfb3ba1325      iOS   1393633458   \n",
       "131    d23a964e8656403b853eb2a24139c408  android   1393633861   \n",
       "...                                 ...      ...          ...   \n",
       "49974  505d90b033ee4f44b7e2132c3c2da85c  android   1396307666   \n",
       "49981  6fd296b7c5b34eaa829b3f5482ea56cc  android   1396308417   \n",
       "49989  4829aa471c6b431fa023076746f7476f      iOS   1396309022   \n",
       "49995  412b973788704c36a008a506cdbba033      iOS   1396309720   \n",
       "49998  2df6b9a0c66b48a389330327517b9276      iOS   1396309968   \n",
       "\n",
       "                                                location  amount  \n",
       "16     {'latitude': 40.189788, 'city': 'Lyons', 'stat...    31.0  \n",
       "35     {'latitude': 45.408374, 'city': 'Lake Oswego',...    40.0  \n",
       "78     {'latitude': 33.844371, 'city': 'Alpharetta', ...    53.0  \n",
       "100    {'latitude': 33.794055, 'city': 'Atlanta', 'st...    48.0  \n",
       "131    {'latitude': 39.102704, 'city': 'Kansas City',...    27.0  \n",
       "...                                                  ...     ...  \n",
       "49974  {'latitude': 42.752844, 'city': 'Haverhill', '...    12.0  \n",
       "49981  {'latitude': 40.067772, 'city': 'Boulder', 'st...    48.0  \n",
       "49989  {'latitude': 39.872535, 'city': 'Westminster',...    37.0  \n",
       "49995  {'latitude': 45.343615, 'city': 'West Linn', '...    35.0  \n",
       "49998  {'latitude': 39.477625, 'city': 'Martinsville'...    37.0  \n",
       "\n",
       "[4179 rows x 10 columns]"
      ]
     },
     "execution_count": 123,
     "metadata": {},
     "output_type": "execute_result"
    }
   ],
   "source": [
    "amount_check = table[((table.category== 'Sports')|(table.category == 'Enviroment')) & (table.event_name== 'Fund Project')]\n",
    "amount_check"
   ]
  },
  {
   "cell_type": "code",
   "execution_count": 124,
   "metadata": {},
   "outputs": [
    {
     "name": "stdout",
     "output_type": "stream",
     "text": [
      "F    23291\n",
      "M    23202\n",
      "U     3507\n",
      "Name: gender, dtype: int64\n",
      "18-24    24395\n",
      "35-44     6676\n",
      "45-54     6392\n",
      "55+       6306\n",
      "25-34     6231\n",
      "Name: age, dtype: int64\n"
     ]
    }
   ],
   "source": [
    "\n",
    "value = table['gender'].value_counts()\n",
    "print(value)\n",
    "value1 = table['age'].value_counts()\n",
    "print(value1)\n"
   ]
  },
  {
   "cell_type": "code",
   "execution_count": 125,
   "metadata": {},
   "outputs": [
    {
     "data": {
      "image/png": "[encoded data removed]",
      "text/plain": [
       "<Figure size 432x288 with 1 Axes>"
      ]
     },
     "metadata": {
      "needs_background": "light"
     },
     "output_type": "display_data"
    }
   ],
   "source": [
    "import matplotlib.pyplot as plt\n",
    "fig = plt.figure()\n",
    "ax = fig.add_axes([0,0,1,10])\n",
    "langs = ['M','F','U']\n",
    "students = [x for x in value]\n",
    "ax.bar(langs,students)\n",
    "plt.show()"
   ]
  },
  {
   "cell_type": "code",
   "execution_count": 126,
   "metadata": {},
   "outputs": [
    {
     "data": {
      "image/png": "[encoded data removed]",
      "text/plain": [
       "<Figure size 432x288 with 1 Axes>"
      ]
     },
     "metadata": {
      "needs_background": "light"
     },
     "output_type": "display_data"
    }
   ],
   "source": [
    "import matplotlib.pyplot as plt\n",
    "fig = plt.figure()\n",
    "ax = fig.add_axes([0,0,1,1])\n",
    "langs = ['M','F','U']\n",
    "students = [x for x in value]\n",
    "ax.bar(langs,students)\n",
    "plt.show()"
   ]
  },
  {
   "cell_type": "code",
   "execution_count": 127,
   "metadata": {},
   "outputs": [
    {
     "data": {
      "image/png": "[encoded data removed]",
      "text/plain": [
       "<Figure size 432x288 with 1 Axes>"
      ]
     },
     "metadata": {},
     "output_type": "display_data"
    }
   ],
   "source": [
    "labels ='Male','Female',\"Unknown\"\n",
    "data = [x for x in value]\n",
    "explode = (0,0,0.2)\n",
    "plt.pie(data,labels =labels,explode=explode,autopct='%1.1f%%')\n",
    "plt.show()\n"
   ]
  },
  {
   "cell_type": "code",
   "execution_count": 164,
   "metadata": {},
   "outputs": [],
   "source": [
    "from collections import Counter \n",
    "lat_long = [(lat.get('latitude'),lat.get('longitude')) for lat in table.location]\n",
    "lat_long\n",
    "cities = [city.get('city') for city in table.location]\n",
    "cities = Counter(cities)\n",
    "cities\n",
    "state = [state.get('state') for state in table.location]\n",
    "state = Counter(state)\n",
    "stat = pd.DataFrame.from_dict(state, orient='index').reset_index()\n",
    "stat = stat.rename(columns={'index':'state', 0:'count'})\n",
    "# stat\n",
    "\n"
   ]
  },
  {
   "cell_type": "code",
   "execution_count": 129,
   "metadata": {},
   "outputs": [
    {
     "data": {
      "application/vnd.plotly.v1+json": {
       "config": {
        "plotlyServerURL": "https://plot.ly"
       },
       "data": [
        {
         "colorbar": {
          "title": {
           "text": "Donors"
          }
         },
         "colorscale": [
          [
           0,
           "rgb(255,245,240)"
          ],
          [
           0.125,
           "rgb(254,224,210)"
          ],
          [
           0.25,
           "rgb(252,187,161)"
          ],
          [
           0.375,
           "rgb(252,146,114)"
          ],
          [
           0.5,
           "rgb(251,106,74)"
          ],
          [
           0.625,
           "rgb(239,59,44)"
          ],
          [
           0.75,
           "rgb(203,24,29)"
          ],
          [
           0.875,
           "rgb(165,15,21)"
          ],
          [
           1,
           "rgb(103,0,13)"
          ]
         ],
         "locationmode": "USA-states",
         "locations": [
          "CO",
          "GA",
          "MA",
          "NY",
          "MO",
          "OH",
          "CA",
          "IN",
          "NV",
          "KS",
          "WI",
          "OR",
          "TX",
          "PA",
          "FL",
          "MS",
          "ID",
          "LA",
          "VT",
          "NJ",
          "CT",
          "IL",
          "KY",
          "OK",
          "TN",
          "MI",
          "SD",
          "AZ",
          "VA",
          "SC",
          "AR",
          "WA",
          "WV",
          "MD",
          "NH",
          "NE",
          "AK",
          "NC",
          "IA",
          "MN",
          "DE",
          "HI",
          "NM",
          "AL",
          "UT",
          "MT",
          "ND",
          "RI",
          "WY",
          "DC",
          "ME"
         ],
         "type": "choropleth",
         "z": [
          5294,
          7586,
          512,
          1450,
          458,
          971,
          2823,
          8909,
          191,
          211,
          463,
          6516,
          1957,
          906,
          1489,
          144,
          127,
          301,
          72,
          592,
          289,
          941,
          404,
          340,
          507,
          709,
          85,
          438,
          642,
          419,
          227,
          452,
          101,
          474,
          65,
          223,
          29,
          692,
          230,
          357,
          96,
          87,
          156,
          451,
          219,
          96,
          57,
          115,
          37,
          24,
          66
         ]
        }
       ],
       "layout": {
        "geo": {
         "scope": "usa"
        },
        "template": {
         "data": {
          "bar": [
           {
            "error_x": {
             "color": "#2a3f5f"
            },
            "error_y": {
             "color": "#2a3f5f"
            },
            "marker": {
             "line": {
              "color": "#E5ECF6",
              "width": 0.5
             }
            },
            "type": "bar"
           }
          ],
          "barpolar": [
           {
            "marker": {
             "line": {
              "color": "#E5ECF6",
              "width": 0.5
             }
            },
            "type": "barpolar"
           }
          ],
          "carpet": [
           {
            "aaxis": {
             "endlinecolor": "#2a3f5f",
             "gridcolor": "white",
             "linecolor": "white",
             "minorgridcolor": "white",
             "startlinecolor": "#2a3f5f"
            },
            "baxis": {
             "endlinecolor": "#2a3f5f",
             "gridcolor": "white",
             "linecolor": "white",
             "minorgridcolor": "white",
             "startlinecolor": "#2a3f5f"
            },
            "type": "carpet"
           }
          ],
          "choropleth": [
           {
            "colorbar": {
             "outlinewidth": 0,
             "ticks": ""
            },
            "type": "choropleth"
           }
          ],
          "contour": [
           {
            "colorbar": {
             "outlinewidth": 0,
             "ticks": ""
            },
            "colorscale": [
             [
              0,
              "#0d0887"
             ],
             [
              0.1111111111111111,
              "#46039f"
             ],
             [
              0.2222222222222222,
              "#7201a8"
             ],
             [
              0.3333333333333333,
              "#9c179e"
             ],
             [
              0.4444444444444444,
              "#bd3786"
             ],
             [
              0.5555555555555556,
              "#d8576b"
             ],
             [
              0.6666666666666666,
              "#ed7953"
             ],
             [
              0.7777777777777778,
              "#fb9f3a"
             ],
             [
              0.8888888888888888,
              "#fdca26"
             ],
             [
              1,
              "#f0f921"
             ]
            ],
            "type": "contour"
           }
          ],
          "contourcarpet": [
           {
            "colorbar": {
             "outlinewidth": 0,
             "ticks": ""
            },
            "type": "contourcarpet"
           }
          ],
          "heatmap": [
           {
            "colorbar": {
             "outlinewidth": 0,
             "ticks": ""
            },
            "colorscale": [
             [
              0,
              "#0d0887"
             ],
             [
              0.1111111111111111,
              "#46039f"
             ],
             [
              0.2222222222222222,
              "#7201a8"
             ],
             [
              0.3333333333333333,
              "#9c179e"
             ],
             [
              0.4444444444444444,
              "#bd3786"
             ],
             [
              0.5555555555555556,
              "#d8576b"
             ],
             [
              0.6666666666666666,
              "#ed7953"
             ],
             [
              0.7777777777777778,
              "#fb9f3a"
             ],
             [
              0.8888888888888888,
              "#fdca26"
             ],
             [
              1,
              "#f0f921"
             ]
            ],
            "type": "heatmap"
           }
          ],
          "heatmapgl": [
           {
            "colorbar": {
             "outlinewidth": 0,
             "ticks": ""
            },
            "colorscale": [
             [
              0,
              "#0d0887"
             ],
             [
              0.1111111111111111,
              "#46039f"
             ],
             [
              0.2222222222222222,
              "#7201a8"
             ],
             [
              0.3333333333333333,
              "#9c179e"
             ],
             [
              0.4444444444444444,
              "#bd3786"
             ],
             [
              0.5555555555555556,
              "#d8576b"
             ],
             [
              0.6666666666666666,
              "#ed7953"
             ],
             [
              0.7777777777777778,
              "#fb9f3a"
             ],
             [
              0.8888888888888888,
              "#fdca26"
             ],
             [
              1,
              "#f0f921"
             ]
            ],
            "type": "heatmapgl"
           }
          ],
          "histogram": [
           {
            "marker": {
             "colorbar": {
              "outlinewidth": 0,
              "ticks": ""
             }
            },
            "type": "histogram"
           }
          ],
          "histogram2d": [
           {
            "colorbar": {
             "outlinewidth": 0,
             "ticks": ""
            },
            "colorscale": [
             [
              0,
              "#0d0887"
             ],
             [
              0.1111111111111111,
              "#46039f"
             ],
             [
              0.2222222222222222,
              "#7201a8"
             ],
             [
              0.3333333333333333,
              "#9c179e"
             ],
             [
              0.4444444444444444,
              "#bd3786"
             ],
             [
              0.5555555555555556,
              "#d8576b"
             ],
             [
              0.6666666666666666,
              "#ed7953"
             ],
             [
              0.7777777777777778,
              "#fb9f3a"
             ],
             [
              0.8888888888888888,
              "#fdca26"
             ],
             [
              1,
              "#f0f921"
             ]
            ],
            "type": "histogram2d"
           }
          ],
          "histogram2dcontour": [
           {
            "colorbar": {
             "outlinewidth": 0,
             "ticks": ""
            },
            "colorscale": [
             [
              0,
              "#0d0887"
             ],
             [
              0.1111111111111111,
              "#46039f"
             ],
             [
              0.2222222222222222,
              "#7201a8"
             ],
             [
              0.3333333333333333,
              "#9c179e"
             ],
             [
              0.4444444444444444,
              "#bd3786"
             ],
             [
              0.5555555555555556,
              "#d8576b"
             ],
             [
              0.6666666666666666,
              "#ed7953"
             ],
             [
              0.7777777777777778,
              "#fb9f3a"
             ],
             [
              0.8888888888888888,
              "#fdca26"
             ],
             [
              1,
              "#f0f921"
             ]
            ],
            "type": "histogram2dcontour"
           }
          ],
          "mesh3d": [
           {
            "colorbar": {
             "outlinewidth": 0,
             "ticks": ""
            },
            "type": "mesh3d"
           }
          ],
          "parcoords": [
           {
            "line": {
             "colorbar": {
              "outlinewidth": 0,
              "ticks": ""
             }
            },
            "type": "parcoords"
           }
          ],
          "pie": [
           {
            "automargin": true,
            "type": "pie"
           }
          ],
          "scatter": [
           {
            "marker": {
             "colorbar": {
              "outlinewidth": 0,
              "ticks": ""
             }
            },
            "type": "scatter"
           }
          ],
          "scatter3d": [
           {
            "line": {
             "colorbar": {
              "outlinewidth": 0,
              "ticks": ""
             }
            },
            "marker": {
             "colorbar": {
              "outlinewidth": 0,
              "ticks": ""
             }
            },
            "type": "scatter3d"
           }
          ],
          "scattercarpet": [
           {
            "marker": {
             "colorbar": {
              "outlinewidth": 0,
              "ticks": ""
             }
            },
            "type": "scattercarpet"
           }
          ],
          "scattergeo": [
           {
            "marker": {
             "colorbar": {
              "outlinewidth": 0,
              "ticks": ""
             }
            },
            "type": "scattergeo"
           }
          ],
          "scattergl": [
           {
            "marker": {
             "colorbar": {
              "outlinewidth": 0,
              "ticks": ""
             }
            },
            "type": "scattergl"
           }
          ],
          "scattermapbox": [
           {
            "marker": {
             "colorbar": {
              "outlinewidth": 0,
              "ticks": ""
             }
            },
            "type": "scattermapbox"
           }
          ],
          "scatterpolar": [
           {
            "marker": {
             "colorbar": {
              "outlinewidth": 0,
              "ticks": ""
             }
            },
            "type": "scatterpolar"
           }
          ],
          "scatterpolargl": [
           {
            "marker": {
             "colorbar": {
              "outlinewidth": 0,
              "ticks": ""
             }
            },
            "type": "scatterpolargl"
           }
          ],
          "scatterternary": [
           {
            "marker": {
             "colorbar": {
              "outlinewidth": 0,
              "ticks": ""
             }
            },
            "type": "scatterternary"
           }
          ],
          "surface": [
           {
            "colorbar": {
             "outlinewidth": 0,
             "ticks": ""
            },
            "colorscale": [
             [
              0,
              "#0d0887"
             ],
             [
              0.1111111111111111,
              "#46039f"
             ],
             [
              0.2222222222222222,
              "#7201a8"
             ],
             [
              0.3333333333333333,
              "#9c179e"
             ],
             [
              0.4444444444444444,
              "#bd3786"
             ],
             [
              0.5555555555555556,
              "#d8576b"
             ],
             [
              0.6666666666666666,
              "#ed7953"
             ],
             [
              0.7777777777777778,
              "#fb9f3a"
             ],
             [
              0.8888888888888888,
              "#fdca26"
             ],
             [
              1,
              "#f0f921"
             ]
            ],
            "type": "surface"
           }
          ],
          "table": [
           {
            "cells": {
             "fill": {
              "color": "#EBF0F8"
             },
             "line": {
              "color": "white"
             }
            },
            "header": {
             "fill": {
              "color": "#C8D4E3"
             },
             "line": {
              "color": "white"
             }
            },
            "type": "table"
           }
          ]
         },
         "layout": {
          "annotationdefaults": {
           "arrowcolor": "#2a3f5f",
           "arrowhead": 0,
           "arrowwidth": 1
          },
          "coloraxis": {
           "colorbar": {
            "outlinewidth": 0,
            "ticks": ""
           }
          },
          "colorscale": {
           "diverging": [
            [
             0,
             "#8e0152"
            ],
            [
             0.1,
             "#c51b7d"
            ],
            [
             0.2,
             "#de77ae"
            ],
            [
             0.3,
             "#f1b6da"
            ],
            [
             0.4,
             "#fde0ef"
            ],
            [
             0.5,
             "#f7f7f7"
            ],
            [
             0.6,
             "#e6f5d0"
            ],
            [
             0.7,
             "#b8e186"
            ],
            [
             0.8,
             "#7fbc41"
            ],
            [
             0.9,
             "#4d9221"
            ],
            [
             1,
             "#276419"
            ]
           ],
           "sequential": [
            [
             0,
             "#0d0887"
            ],
            [
             0.1111111111111111,
             "#46039f"
            ],
            [
             0.2222222222222222,
             "#7201a8"
            ],
            [
             0.3333333333333333,
             "#9c179e"
            ],
            [
             0.4444444444444444,
             "#bd3786"
            ],
            [
             0.5555555555555556,
             "#d8576b"
            ],
            [
             0.6666666666666666,
             "#ed7953"
            ],
            [
             0.7777777777777778,
             "#fb9f3a"
            ],
            [
             0.8888888888888888,
             "#fdca26"
            ],
            [
             1,
             "#f0f921"
            ]
           ],
           "sequentialminus": [
            [
             0,
             "#0d0887"
            ],
            [
             0.1111111111111111,
             "#46039f"
            ],
            [
             0.2222222222222222,
             "#7201a8"
            ],
            [
             0.3333333333333333,
             "#9c179e"
            ],
            [
             0.4444444444444444,
             "#bd3786"
            ],
            [
             0.5555555555555556,
             "#d8576b"
            ],
            [
             0.6666666666666666,
             "#ed7953"
            ],
            [
             0.7777777777777778,
             "#fb9f3a"
            ],
            [
             0.8888888888888888,
             "#fdca26"
            ],
            [
             1,
             "#f0f921"
            ]
           ]
          },
          "colorway": [
           "#636efa",
           "#EF553B",
           "#00cc96",
           "#ab63fa",
           "#FFA15A",
           "#19d3f3",
           "#FF6692",
           "#B6E880",
           "#FF97FF",
           "#FECB52"
          ],
          "font": {
           "color": "#2a3f5f"
          },
          "geo": {
           "bgcolor": "white",
           "lakecolor": "white",
           "landcolor": "#E5ECF6",
           "showlakes": true,
           "showland": true,
           "subunitcolor": "white"
          },
          "hoverlabel": {
           "align": "left"
          },
          "hovermode": "closest",
          "mapbox": {
           "style": "light"
          },
          "paper_bgcolor": "white",
          "plot_bgcolor": "#E5ECF6",
          "polar": {
           "angularaxis": {
            "gridcolor": "white",
            "linecolor": "white",
            "ticks": ""
           },
           "bgcolor": "#E5ECF6",
           "radialaxis": {
            "gridcolor": "white",
            "linecolor": "white",
            "ticks": ""
           }
          },
          "scene": {
           "xaxis": {
            "backgroundcolor": "#E5ECF6",
            "gridcolor": "white",
            "gridwidth": 2,
            "linecolor": "white",
            "showbackground": true,
            "ticks": "",
            "zerolinecolor": "white"
           },
           "yaxis": {
            "backgroundcolor": "#E5ECF6",
            "gridcolor": "white",
            "gridwidth": 2,
            "linecolor": "white",
            "showbackground": true,
            "ticks": "",
            "zerolinecolor": "white"
           },
           "zaxis": {
            "backgroundcolor": "#E5ECF6",
            "gridcolor": "white",
            "gridwidth": 2,
            "linecolor": "white",
            "showbackground": true,
            "ticks": "",
            "zerolinecolor": "white"
           }
          },
          "shapedefaults": {
           "line": {
            "color": "#2a3f5f"
           }
          },
          "ternary": {
           "aaxis": {
            "gridcolor": "white",
            "linecolor": "white",
            "ticks": ""
           },
           "baxis": {
            "gridcolor": "white",
            "linecolor": "white",
            "ticks": ""
           },
           "bgcolor": "#E5ECF6",
           "caxis": {
            "gridcolor": "white",
            "linecolor": "white",
            "ticks": ""
           }
          },
          "title": {
           "x": 0.05
          },
          "xaxis": {
           "automargin": true,
           "gridcolor": "white",
           "linecolor": "white",
           "ticks": "",
           "title": {
            "standoff": 15
           },
           "zerolinecolor": "white",
           "zerolinewidth": 2
          },
          "yaxis": {
           "automargin": true,
           "gridcolor": "white",
           "linecolor": "white",
           "ticks": "",
           "title": {
            "standoff": 15
           },
           "zerolinecolor": "white",
           "zerolinewidth": 2
          }
         }
        },
        "title": {
         "text": "Donation heat map of USA"
        }
       }
      },
      "text/html": [
       "<div>                            <div id=\"cb8d863b-0f56-4cfa-ac02-1db5de39ae96\" class=\"plotly-graph-div\" style=\"height:525px; width:100%;\"></div>            <script type=\"text/javascript\">                require([\"plotly\"], function(Plotly) {                    window.PLOTLYENV=window.PLOTLYENV || {};                                    if (document.getElementById(\"cb8d863b-0f56-4cfa-ac02-1db5de39ae96\")) {                    Plotly.newPlot(                        \"cb8d863b-0f56-4cfa-ac02-1db5de39ae96\",                        [{\"colorbar\": {\"title\": {\"text\": \"Donors\"}}, \"colorscale\": [[0.0, \"rgb(255,245,240)\"], [0.125, \"rgb(254,224,210)\"], [0.25, \"rgb(252,187,161)\"], [0.375, \"rgb(252,146,114)\"], [0.5, \"rgb(251,106,74)\"], [0.625, \"rgb(239,59,44)\"], [0.75, \"rgb(203,24,29)\"], [0.875, \"rgb(165,15,21)\"], [1.0, \"rgb(103,0,13)\"]], \"locationmode\": \"USA-states\", \"locations\": [\"CO\", \"GA\", \"MA\", \"NY\", \"MO\", \"OH\", \"CA\", \"IN\", \"NV\", \"KS\", \"WI\", \"OR\", \"TX\", \"PA\", \"FL\", \"MS\", \"ID\", \"LA\", \"VT\", \"NJ\", \"CT\", \"IL\", \"KY\", \"OK\", \"TN\", \"MI\", \"SD\", \"AZ\", \"VA\", \"SC\", \"AR\", \"WA\", \"WV\", \"MD\", \"NH\", \"NE\", \"AK\", \"NC\", \"IA\", \"MN\", \"DE\", \"HI\", \"NM\", \"AL\", \"UT\", \"MT\", \"ND\", \"RI\", \"WY\", \"DC\", \"ME\"], \"type\": \"choropleth\", \"z\": [5294.0, 7586.0, 512.0, 1450.0, 458.0, 971.0, 2823.0, 8909.0, 191.0, 211.0, 463.0, 6516.0, 1957.0, 906.0, 1489.0, 144.0, 127.0, 301.0, 72.0, 592.0, 289.0, 941.0, 404.0, 340.0, 507.0, 709.0, 85.0, 438.0, 642.0, 419.0, 227.0, 452.0, 101.0, 474.0, 65.0, 223.0, 29.0, 692.0, 230.0, 357.0, 96.0, 87.0, 156.0, 451.0, 219.0, 96.0, 57.0, 115.0, 37.0, 24.0, 66.0]}],                        {\"geo\": {\"scope\": \"usa\"}, \"template\": {\"data\": {\"bar\": [{\"error_x\": {\"color\": \"#2a3f5f\"}, \"error_y\": {\"color\": \"#2a3f5f\"}, \"marker\": {\"line\": {\"color\": \"#E5ECF6\", \"width\": 0.5}}, \"type\": \"bar\"}], \"barpolar\": [{\"marker\": {\"line\": {\"color\": \"#E5ECF6\", \"width\": 0.5}}, \"type\": \"barpolar\"}], \"carpet\": [{\"aaxis\": {\"endlinecolor\": \"#2a3f5f\", \"gridcolor\": \"white\", \"linecolor\": \"white\", \"minorgridcolor\": \"white\", \"startlinecolor\": \"#2a3f5f\"}, \"baxis\": {\"endlinecolor\": \"#2a3f5f\", \"gridcolor\": \"white\", \"linecolor\": \"white\", \"minorgridcolor\": \"white\", \"startlinecolor\": \"#2a3f5f\"}, \"type\": \"carpet\"}], \"choropleth\": [{\"colorbar\": {\"outlinewidth\": 0, \"ticks\": \"\"}, \"type\": \"choropleth\"}], \"contour\": [{\"colorbar\": {\"outlinewidth\": 0, \"ticks\": \"\"}, \"colorscale\": [[0.0, \"#0d0887\"], [0.1111111111111111, \"#46039f\"], [0.2222222222222222, \"#7201a8\"], [0.3333333333333333, \"#9c179e\"], [0.4444444444444444, \"#bd3786\"], [0.5555555555555556, \"#d8576b\"], [0.6666666666666666, \"#ed7953\"], [0.7777777777777778, \"#fb9f3a\"], [0.8888888888888888, \"#fdca26\"], [1.0, \"#f0f921\"]], \"type\": \"contour\"}], \"contourcarpet\": [{\"colorbar\": {\"outlinewidth\": 0, \"ticks\": \"\"}, \"type\": \"contourcarpet\"}], \"heatmap\": [{\"colorbar\": {\"outlinewidth\": 0, \"ticks\": \"\"}, \"colorscale\": [[0.0, \"#0d0887\"], [0.1111111111111111, \"#46039f\"], [0.2222222222222222, \"#7201a8\"], [0.3333333333333333, \"#9c179e\"], [0.4444444444444444, \"#bd3786\"], [0.5555555555555556, \"#d8576b\"], [0.6666666666666666, \"#ed7953\"], [0.7777777777777778, \"#fb9f3a\"], [0.8888888888888888, \"#fdca26\"], [1.0, \"#f0f921\"]], \"type\": \"heatmap\"}], \"heatmapgl\": [{\"colorbar\": {\"outlinewidth\": 0, \"ticks\": \"\"}, \"colorscale\": [[0.0, \"#0d0887\"], [0.1111111111111111, \"#46039f\"], [0.2222222222222222, \"#7201a8\"], [0.3333333333333333, \"#9c179e\"], [0.4444444444444444, \"#bd3786\"], [0.5555555555555556, \"#d8576b\"], [0.6666666666666666, \"#ed7953\"], [0.7777777777777778, \"#fb9f3a\"], [0.8888888888888888, \"#fdca26\"], [1.0, \"#f0f921\"]], \"type\": \"heatmapgl\"}], \"histogram\": [{\"marker\": {\"colorbar\": {\"outlinewidth\": 0, \"ticks\": \"\"}}, \"type\": \"histogram\"}], \"histogram2d\": [{\"colorbar\": {\"outlinewidth\": 0, \"ticks\": \"\"}, \"colorscale\": [[0.0, \"#0d0887\"], [0.1111111111111111, \"#46039f\"], [0.2222222222222222, \"#7201a8\"], [0.3333333333333333, \"#9c179e\"], [0.4444444444444444, \"#bd3786\"], [0.5555555555555556, \"#d8576b\"], [0.6666666666666666, \"#ed7953\"], [0.7777777777777778, \"#fb9f3a\"], [0.8888888888888888, \"#fdca26\"], [1.0, \"#f0f921\"]], \"type\": \"histogram2d\"}], \"histogram2dcontour\": [{\"colorbar\": {\"outlinewidth\": 0, \"ticks\": \"\"}, \"colorscale\": [[0.0, \"#0d0887\"], [0.1111111111111111, \"#46039f\"], [0.2222222222222222, \"#7201a8\"], [0.3333333333333333, \"#9c179e\"], [0.4444444444444444, \"#bd3786\"], [0.5555555555555556, \"#d8576b\"], [0.6666666666666666, \"#ed7953\"], [0.7777777777777778, \"#fb9f3a\"], [0.8888888888888888, \"#fdca26\"], [1.0, \"#f0f921\"]], \"type\": \"histogram2dcontour\"}], \"mesh3d\": [{\"colorbar\": {\"outlinewidth\": 0, \"ticks\": \"\"}, \"type\": \"mesh3d\"}], \"parcoords\": [{\"line\": {\"colorbar\": {\"outlinewidth\": 0, \"ticks\": \"\"}}, \"type\": \"parcoords\"}], \"pie\": [{\"automargin\": true, \"type\": \"pie\"}], \"scatter\": [{\"marker\": {\"colorbar\": {\"outlinewidth\": 0, \"ticks\": \"\"}}, \"type\": \"scatter\"}], \"scatter3d\": [{\"line\": {\"colorbar\": {\"outlinewidth\": 0, \"ticks\": \"\"}}, \"marker\": {\"colorbar\": {\"outlinewidth\": 0, \"ticks\": \"\"}}, \"type\": \"scatter3d\"}], \"scattercarpet\": [{\"marker\": {\"colorbar\": {\"outlinewidth\": 0, \"ticks\": \"\"}}, \"type\": \"scattercarpet\"}], \"scattergeo\": [{\"marker\": {\"colorbar\": {\"outlinewidth\": 0, \"ticks\": \"\"}}, \"type\": \"scattergeo\"}], \"scattergl\": [{\"marker\": {\"colorbar\": {\"outlinewidth\": 0, \"ticks\": \"\"}}, \"type\": \"scattergl\"}], \"scattermapbox\": [{\"marker\": {\"colorbar\": {\"outlinewidth\": 0, \"ticks\": \"\"}}, \"type\": \"scattermapbox\"}], \"scatterpolar\": [{\"marker\": {\"colorbar\": {\"outlinewidth\": 0, \"ticks\": \"\"}}, \"type\": \"scatterpolar\"}], \"scatterpolargl\": [{\"marker\": {\"colorbar\": {\"outlinewidth\": 0, \"ticks\": \"\"}}, \"type\": \"scatterpolargl\"}], \"scatterternary\": [{\"marker\": {\"colorbar\": {\"outlinewidth\": 0, \"ticks\": \"\"}}, \"type\": \"scatterternary\"}], \"surface\": [{\"colorbar\": {\"outlinewidth\": 0, \"ticks\": \"\"}, \"colorscale\": [[0.0, \"#0d0887\"], [0.1111111111111111, \"#46039f\"], [0.2222222222222222, \"#7201a8\"], [0.3333333333333333, \"#9c179e\"], [0.4444444444444444, \"#bd3786\"], [0.5555555555555556, \"#d8576b\"], [0.6666666666666666, \"#ed7953\"], [0.7777777777777778, \"#fb9f3a\"], [0.8888888888888888, \"#fdca26\"], [1.0, \"#f0f921\"]], \"type\": \"surface\"}], \"table\": [{\"cells\": {\"fill\": {\"color\": \"#EBF0F8\"}, \"line\": {\"color\": \"white\"}}, \"header\": {\"fill\": {\"color\": \"#C8D4E3\"}, \"line\": {\"color\": \"white\"}}, \"type\": \"table\"}]}, \"layout\": {\"annotationdefaults\": {\"arrowcolor\": \"#2a3f5f\", \"arrowhead\": 0, \"arrowwidth\": 1}, \"coloraxis\": {\"colorbar\": {\"outlinewidth\": 0, \"ticks\": \"\"}}, \"colorscale\": {\"diverging\": [[0, \"#8e0152\"], [0.1, \"#c51b7d\"], [0.2, \"#de77ae\"], [0.3, \"#f1b6da\"], [0.4, \"#fde0ef\"], [0.5, \"#f7f7f7\"], [0.6, \"#e6f5d0\"], [0.7, \"#b8e186\"], [0.8, \"#7fbc41\"], [0.9, \"#4d9221\"], [1, \"#276419\"]], \"sequential\": [[0.0, \"#0d0887\"], [0.1111111111111111, \"#46039f\"], [0.2222222222222222, \"#7201a8\"], [0.3333333333333333, \"#9c179e\"], [0.4444444444444444, \"#bd3786\"], [0.5555555555555556, \"#d8576b\"], [0.6666666666666666, \"#ed7953\"], [0.7777777777777778, \"#fb9f3a\"], [0.8888888888888888, \"#fdca26\"], [1.0, \"#f0f921\"]], \"sequentialminus\": [[0.0, \"#0d0887\"], [0.1111111111111111, \"#46039f\"], [0.2222222222222222, \"#7201a8\"], [0.3333333333333333, \"#9c179e\"], [0.4444444444444444, \"#bd3786\"], [0.5555555555555556, \"#d8576b\"], [0.6666666666666666, \"#ed7953\"], [0.7777777777777778, \"#fb9f3a\"], [0.8888888888888888, \"#fdca26\"], [1.0, \"#f0f921\"]]}, \"colorway\": [\"#636efa\", \"#EF553B\", \"#00cc96\", \"#ab63fa\", \"#FFA15A\", \"#19d3f3\", \"#FF6692\", \"#B6E880\", \"#FF97FF\", \"#FECB52\"], \"font\": {\"color\": \"#2a3f5f\"}, \"geo\": {\"bgcolor\": \"white\", \"lakecolor\": \"white\", \"landcolor\": \"#E5ECF6\", \"showlakes\": true, \"showland\": true, \"subunitcolor\": \"white\"}, \"hoverlabel\": {\"align\": \"left\"}, \"hovermode\": \"closest\", \"mapbox\": {\"style\": \"light\"}, \"paper_bgcolor\": \"white\", \"plot_bgcolor\": \"#E5ECF6\", \"polar\": {\"angularaxis\": {\"gridcolor\": \"white\", \"linecolor\": \"white\", \"ticks\": \"\"}, \"bgcolor\": \"#E5ECF6\", \"radialaxis\": {\"gridcolor\": \"white\", \"linecolor\": \"white\", \"ticks\": \"\"}}, \"scene\": {\"xaxis\": {\"backgroundcolor\": \"#E5ECF6\", \"gridcolor\": \"white\", \"gridwidth\": 2, \"linecolor\": \"white\", \"showbackground\": true, \"ticks\": \"\", \"zerolinecolor\": \"white\"}, \"yaxis\": {\"backgroundcolor\": \"#E5ECF6\", \"gridcolor\": \"white\", \"gridwidth\": 2, \"linecolor\": \"white\", \"showbackground\": true, \"ticks\": \"\", \"zerolinecolor\": \"white\"}, \"zaxis\": {\"backgroundcolor\": \"#E5ECF6\", \"gridcolor\": \"white\", \"gridwidth\": 2, \"linecolor\": \"white\", \"showbackground\": true, \"ticks\": \"\", \"zerolinecolor\": \"white\"}}, \"shapedefaults\": {\"line\": {\"color\": \"#2a3f5f\"}}, \"ternary\": {\"aaxis\": {\"gridcolor\": \"white\", \"linecolor\": \"white\", \"ticks\": \"\"}, \"baxis\": {\"gridcolor\": \"white\", \"linecolor\": \"white\", \"ticks\": \"\"}, \"bgcolor\": \"#E5ECF6\", \"caxis\": {\"gridcolor\": \"white\", \"linecolor\": \"white\", \"ticks\": \"\"}}, \"title\": {\"x\": 0.05}, \"xaxis\": {\"automargin\": true, \"gridcolor\": \"white\", \"linecolor\": \"white\", \"ticks\": \"\", \"title\": {\"standoff\": 15}, \"zerolinecolor\": \"white\", \"zerolinewidth\": 2}, \"yaxis\": {\"automargin\": true, \"gridcolor\": \"white\", \"linecolor\": \"white\", \"ticks\": \"\", \"title\": {\"standoff\": 15}, \"zerolinecolor\": \"white\", \"zerolinewidth\": 2}}}, \"title\": {\"text\": \"Donation heat map of USA\"}},                        {\"responsive\": true}                    ).then(function(){\n",
       "                            \n",
       "var gd = document.getElementById('cb8d863b-0f56-4cfa-ac02-1db5de39ae96');\n",
       "var x = new MutationObserver(function (mutations, observer) {{\n",
       "        var display = window.getComputedStyle(gd).display;\n",
       "        if (!display || display === 'none') {{\n",
       "            console.log([gd, 'removed!']);\n",
       "            Plotly.purge(gd);\n",
       "            observer.disconnect();\n",
       "        }}\n",
       "}});\n",
       "\n",
       "// Listen for the removal of the full notebook cells\n",
       "var notebookContainer = gd.closest('#notebook-container');\n",
       "if (notebookContainer) {{\n",
       "    x.observe(notebookContainer, {childList: true});\n",
       "}}\n",
       "\n",
       "// Listen for the clearing of the current output cell\n",
       "var outputEl = gd.closest('.output');\n",
       "if (outputEl) {{\n",
       "    x.observe(outputEl, {childList: true});\n",
       "}}\n",
       "\n",
       "                        })                };                });            </script>        </div>"
      ]
     },
     "metadata": {},
     "output_type": "display_data"
    }
   ],
   "source": [
    "import plotly.graph_objects as go\n",
    "\n",
    "fig = go.Figure(data=go.Choropleth(\n",
    "    locations=stat['state'], # Spatial coordinates\n",
    "    z = stat['count'].astype(float), # Data to be color-coded\n",
    "    locationmode = 'USA-states', # set of locations match entries in `locations`\n",
    "    colorscale = 'Reds',\n",
    "    colorbar_title = \"Donors\",\n",
    "))\n",
    "\n",
    "fig.update_layout(\n",
    "    title_text = 'Donation heat map of USA',\n",
    "    geo_scope='usa', # limite map scope to USA\n",
    ")\n",
    "\n",
    "fig.show()\n"
   ]
  },
  {
   "cell_type": "code",
   "execution_count": 130,
   "metadata": {},
   "outputs": [
    {
     "data": {
      "text/html": [
       "<div>\n",
       "<style scoped>\n",
       "    .dataframe tbody tr th:only-of-type {\n",
       "        vertical-align: middle;\n",
       "    }\n",
       "\n",
       "    .dataframe tbody tr th {\n",
       "        vertical-align: top;\n",
       "    }\n",
       "\n",
       "    .dataframe thead th {\n",
       "        text-align: right;\n",
       "    }\n",
       "</style>\n",
       "<table border=\"1\" class=\"dataframe\">\n",
       "  <thead>\n",
       "    <tr style=\"text-align: right;\">\n",
       "      <th></th>\n",
       "      <th>time</th>\n",
       "      <th>count</th>\n",
       "    </tr>\n",
       "  </thead>\n",
       "  <tbody>\n",
       "    <tr>\n",
       "      <th>0</th>\n",
       "      <td>2014-03-01</td>\n",
       "      <td>3104</td>\n",
       "    </tr>\n",
       "    <tr>\n",
       "      <th>1</th>\n",
       "      <td>2014-03-02</td>\n",
       "      <td>3169</td>\n",
       "    </tr>\n",
       "    <tr>\n",
       "      <th>2</th>\n",
       "      <td>2014-03-03</td>\n",
       "      <td>2740</td>\n",
       "    </tr>\n",
       "    <tr>\n",
       "      <th>3</th>\n",
       "      <td>2014-03-04</td>\n",
       "      <td>2496</td>\n",
       "    </tr>\n",
       "    <tr>\n",
       "      <th>4</th>\n",
       "      <td>2014-03-05</td>\n",
       "      <td>2266</td>\n",
       "    </tr>\n",
       "    <tr>\n",
       "      <th>5</th>\n",
       "      <td>2014-03-06</td>\n",
       "      <td>2125</td>\n",
       "    </tr>\n",
       "    <tr>\n",
       "      <th>6</th>\n",
       "      <td>2014-03-07</td>\n",
       "      <td>2091</td>\n",
       "    </tr>\n",
       "    <tr>\n",
       "      <th>7</th>\n",
       "      <td>2014-03-08</td>\n",
       "      <td>1927</td>\n",
       "    </tr>\n",
       "    <tr>\n",
       "      <th>8</th>\n",
       "      <td>2014-03-09</td>\n",
       "      <td>1838</td>\n",
       "    </tr>\n",
       "    <tr>\n",
       "      <th>9</th>\n",
       "      <td>2014-03-10</td>\n",
       "      <td>1721</td>\n",
       "    </tr>\n",
       "    <tr>\n",
       "      <th>10</th>\n",
       "      <td>2014-03-11</td>\n",
       "      <td>1690</td>\n",
       "    </tr>\n",
       "    <tr>\n",
       "      <th>11</th>\n",
       "      <td>2014-03-12</td>\n",
       "      <td>1595</td>\n",
       "    </tr>\n",
       "    <tr>\n",
       "      <th>12</th>\n",
       "      <td>2014-03-13</td>\n",
       "      <td>1479</td>\n",
       "    </tr>\n",
       "    <tr>\n",
       "      <th>13</th>\n",
       "      <td>2014-03-14</td>\n",
       "      <td>1504</td>\n",
       "    </tr>\n",
       "    <tr>\n",
       "      <th>14</th>\n",
       "      <td>2014-03-15</td>\n",
       "      <td>1446</td>\n",
       "    </tr>\n",
       "    <tr>\n",
       "      <th>15</th>\n",
       "      <td>2014-03-16</td>\n",
       "      <td>1371</td>\n",
       "    </tr>\n",
       "    <tr>\n",
       "      <th>16</th>\n",
       "      <td>2014-03-17</td>\n",
       "      <td>1372</td>\n",
       "    </tr>\n",
       "    <tr>\n",
       "      <th>17</th>\n",
       "      <td>2014-03-18</td>\n",
       "      <td>1269</td>\n",
       "    </tr>\n",
       "    <tr>\n",
       "      <th>18</th>\n",
       "      <td>2014-03-19</td>\n",
       "      <td>1293</td>\n",
       "    </tr>\n",
       "    <tr>\n",
       "      <th>19</th>\n",
       "      <td>2014-03-20</td>\n",
       "      <td>1263</td>\n",
       "    </tr>\n",
       "    <tr>\n",
       "      <th>20</th>\n",
       "      <td>2014-03-21</td>\n",
       "      <td>1251</td>\n",
       "    </tr>\n",
       "    <tr>\n",
       "      <th>21</th>\n",
       "      <td>2014-03-22</td>\n",
       "      <td>1143</td>\n",
       "    </tr>\n",
       "    <tr>\n",
       "      <th>22</th>\n",
       "      <td>2014-03-23</td>\n",
       "      <td>1161</td>\n",
       "    </tr>\n",
       "    <tr>\n",
       "      <th>23</th>\n",
       "      <td>2014-03-24</td>\n",
       "      <td>1148</td>\n",
       "    </tr>\n",
       "    <tr>\n",
       "      <th>24</th>\n",
       "      <td>2014-03-25</td>\n",
       "      <td>1117</td>\n",
       "    </tr>\n",
       "    <tr>\n",
       "      <th>25</th>\n",
       "      <td>2014-03-26</td>\n",
       "      <td>1045</td>\n",
       "    </tr>\n",
       "    <tr>\n",
       "      <th>26</th>\n",
       "      <td>2014-03-27</td>\n",
       "      <td>1074</td>\n",
       "    </tr>\n",
       "    <tr>\n",
       "      <th>27</th>\n",
       "      <td>2014-03-28</td>\n",
       "      <td>1019</td>\n",
       "    </tr>\n",
       "    <tr>\n",
       "      <th>28</th>\n",
       "      <td>2014-03-29</td>\n",
       "      <td>1080</td>\n",
       "    </tr>\n",
       "    <tr>\n",
       "      <th>29</th>\n",
       "      <td>2014-03-30</td>\n",
       "      <td>1015</td>\n",
       "    </tr>\n",
       "    <tr>\n",
       "      <th>30</th>\n",
       "      <td>2014-03-31</td>\n",
       "      <td>975</td>\n",
       "    </tr>\n",
       "    <tr>\n",
       "      <th>31</th>\n",
       "      <td>2014-04-01</td>\n",
       "      <td>213</td>\n",
       "    </tr>\n",
       "  </tbody>\n",
       "</table>\n",
       "</div>"
      ],
      "text/plain": [
       "          time  count\n",
       "0   2014-03-01   3104\n",
       "1   2014-03-02   3169\n",
       "2   2014-03-03   2740\n",
       "3   2014-03-04   2496\n",
       "4   2014-03-05   2266\n",
       "5   2014-03-06   2125\n",
       "6   2014-03-07   2091\n",
       "7   2014-03-08   1927\n",
       "8   2014-03-09   1838\n",
       "9   2014-03-10   1721\n",
       "10  2014-03-11   1690\n",
       "11  2014-03-12   1595\n",
       "12  2014-03-13   1479\n",
       "13  2014-03-14   1504\n",
       "14  2014-03-15   1446\n",
       "15  2014-03-16   1371\n",
       "16  2014-03-17   1372\n",
       "17  2014-03-18   1269\n",
       "18  2014-03-19   1293\n",
       "19  2014-03-20   1263\n",
       "20  2014-03-21   1251\n",
       "21  2014-03-22   1143\n",
       "22  2014-03-23   1161\n",
       "23  2014-03-24   1148\n",
       "24  2014-03-25   1117\n",
       "25  2014-03-26   1045\n",
       "26  2014-03-27   1074\n",
       "27  2014-03-28   1019\n",
       "28  2014-03-29   1080\n",
       "29  2014-03-30   1015\n",
       "30  2014-03-31    975\n",
       "31  2014-04-01    213"
      ]
     },
     "execution_count": 130,
     "metadata": {},
     "output_type": "execute_result"
    }
   ],
   "source": [
    "from datetime import datetime, date\n",
    "time = table['client_time']\n",
    "dates = []\n",
    "for x in time:\n",
    "    date = date.fromtimestamp(x)\n",
    "    dates.append(date)\n",
    "dates = Counter(dates)\n",
    "x_counter = []\n",
    "y_counter =[]\n",
    "data = pd.DataFrame.from_dict(dates, orient='index').reset_index()\n",
    "data = data.rename(columns={'index':'time', 0:'count'})\n",
    "data"
   ]
  },
  {
   "cell_type": "code",
   "execution_count": 131,
   "metadata": {},
   "outputs": [
    {
     "data": {
      "image/png": "[encoded data removed]",
      "text/plain": [
       "<Figure size 432x288 with 1 Axes>"
      ]
     },
     "metadata": {
      "needs_background": "light"
     },
     "output_type": "display_data"
    }
   ],
   "source": [
    "fig = plt.figure()\n",
    "ax = fig.add_axes([0,0,2,1])\n",
    "date = [y for y in data['time']]\n",
    "counter = [x for x in data['count']]\n",
    "ax.bar(date,counter)\n",
    "plt.show()"
   ]
  },
  {
   "cell_type": "code",
   "execution_count": 132,
   "metadata": {},
   "outputs": [
    {
     "data": {
      "image/png": "[encoded data removed]",
      "text/plain": [
       "<Figure size 1008x360 with 1 Axes>"
      ]
     },
     "metadata": {
      "needs_background": "light"
     },
     "output_type": "display_data"
    }
   ],
   "source": [
    "fig = plt.figure(figsize=(14,5))\n",
    "x= [y for y in data['time']]\n",
    "y= [x for x in data['count']]\n",
    "\n",
    "plt.scatter(x,y,color='r',zorder=1)\n",
    "plt.plot(x,y,color='b',zorder=2)\n",
    "plt.xlabel('time')\n",
    "plt.ylabel('growth')\n",
    "plt.show()"
   ]
  },
  {
   "cell_type": "code",
   "execution_count": 133,
   "metadata": {},
   "outputs": [
    {
     "data": {
      "image/png": "[encoded data removed]",
      "text/plain": [
       "<Figure size 1008x360 with 1 Axes>"
      ]
     },
     "metadata": {
      "needs_background": "light"
     },
     "output_type": "display_data"
    }
   ],
   "source": [
    "fig = plt.figure(figsize=(14,5))\n",
    "x= [y for y in data['time']]\n",
    "ini = 0\n",
    "lis=[]\n",
    "for z in data['count']:\n",
    "    z= z+ini\n",
    "    lis.append(z)\n",
    "    ini = z\n",
    "y = [p for p in lis] \n",
    "plt.scatter(x,y,color='r',zorder=1)\n",
    "plt.plot(x,y,color='b',zorder=2)\n",
    "plt.xlabel('time')\n",
    "plt.ylabel('total counter')\n",
    "plt.show()"
   ]
  },
  {
   "cell_type": "code",
   "execution_count": 134,
   "metadata": {},
   "outputs": [
    {
     "data": {
      "text/html": [
       "<div>\n",
       "<style scoped>\n",
       "    .dataframe tbody tr th:only-of-type {\n",
       "        vertical-align: middle;\n",
       "    }\n",
       "\n",
       "    .dataframe tbody tr th {\n",
       "        vertical-align: top;\n",
       "    }\n",
       "\n",
       "    .dataframe thead th {\n",
       "        text-align: right;\n",
       "    }\n",
       "</style>\n",
       "<table border=\"1\" class=\"dataframe\">\n",
       "  <thead>\n",
       "    <tr style=\"text-align: right;\">\n",
       "      <th></th>\n",
       "      <th>value</th>\n",
       "      <th>count</th>\n",
       "    </tr>\n",
       "  </thead>\n",
       "  <tbody>\n",
       "    <tr>\n",
       "      <th>0</th>\n",
       "      <td>39.0</td>\n",
       "      <td>567</td>\n",
       "    </tr>\n",
       "    <tr>\n",
       "      <th>1</th>\n",
       "      <td>40.0</td>\n",
       "      <td>563</td>\n",
       "    </tr>\n",
       "    <tr>\n",
       "      <th>2</th>\n",
       "      <td>42.0</td>\n",
       "      <td>554</td>\n",
       "    </tr>\n",
       "    <tr>\n",
       "      <th>3</th>\n",
       "      <td>37.0</td>\n",
       "      <td>551</td>\n",
       "    </tr>\n",
       "    <tr>\n",
       "      <th>4</th>\n",
       "      <td>35.0</td>\n",
       "      <td>545</td>\n",
       "    </tr>\n",
       "    <tr>\n",
       "      <th>...</th>\n",
       "      <td>...</td>\n",
       "      <td>...</td>\n",
       "    </tr>\n",
       "    <tr>\n",
       "      <th>88</th>\n",
       "      <td>88.0</td>\n",
       "      <td>2</td>\n",
       "    </tr>\n",
       "    <tr>\n",
       "      <th>89</th>\n",
       "      <td>90.0</td>\n",
       "      <td>1</td>\n",
       "    </tr>\n",
       "    <tr>\n",
       "      <th>90</th>\n",
       "      <td>96.0</td>\n",
       "      <td>1</td>\n",
       "    </tr>\n",
       "    <tr>\n",
       "      <th>91</th>\n",
       "      <td>101.0</td>\n",
       "      <td>1</td>\n",
       "    </tr>\n",
       "    <tr>\n",
       "      <th>92</th>\n",
       "      <td>95.0</td>\n",
       "      <td>1</td>\n",
       "    </tr>\n",
       "  </tbody>\n",
       "</table>\n",
       "<p>93 rows × 2 columns</p>\n",
       "</div>"
      ],
      "text/plain": [
       "    value  count\n",
       "0    39.0    567\n",
       "1    40.0    563\n",
       "2    42.0    554\n",
       "3    37.0    551\n",
       "4    35.0    545\n",
       "..    ...    ...\n",
       "88   88.0      2\n",
       "89   90.0      1\n",
       "90   96.0      1\n",
       "91  101.0      1\n",
       "92   95.0      1\n",
       "\n",
       "[93 rows x 2 columns]"
      ]
     },
     "execution_count": 134,
     "metadata": {},
     "output_type": "execute_result"
    }
   ],
   "source": [
    "amount = table['amount'].value_counts().rename_axis('value').reset_index(name='count')\n",
    "amount\n"
   ]
  },
  {
   "cell_type": "code",
   "execution_count": 135,
   "metadata": {},
   "outputs": [
    {
     "data": {
      "image/png": "[encoded data removed]",
      "text/plain": [
       "<Figure size 432x288 with 1 Axes>"
      ]
     },
     "metadata": {
      "needs_background": "light"
     },
     "output_type": "display_data"
    }
   ],
   "source": [
    "fig = plt.figure()\n",
    "ax = fig.add_axes([0,0,2,1])\n",
    "amt = [x for x in amount['value']]\n",
    "count = [x for x in amount['count']]\n",
    "ax.bar(amt,count)\n",
    "plt.xlabel('amount value')\n",
    "plt.ylabel('counter')\n",
    "plt.show()\n"
   ]
  },
  {
   "cell_type": "code",
   "execution_count": 163,
   "metadata": {
    "scrolled": true
   },
   "outputs": [
    {
     "data": {
      "image/png": "[encoded data removed]",
      "text/plain": [
       "<Figure size 432x288 with 1 Axes>"
      ]
     },
     "metadata": {},
     "output_type": "display_data"
    }
   ],
   "source": [
    "# tried animations but did not work\n",
    "\n",
    "import matplotlib.pyplot as plt\n",
    "import matplotlib.animation as animation\n",
    "from matplotlib import style\n",
    "\n",
    "style.use('fivethirtyeight')\n",
    "\n",
    "fig = plt.figure()\n",
    "ax1 = fig.add_subplot(1,1,1)\n",
    "def animate(i):\n",
    "#     graph_data = open('example.txt','r').read()\n",
    "#     lines = graph_data.split('\\n')\n",
    "    xs = []\n",
    "    ys = []\n",
    "    for x in amount['value']:\n",
    "        xs.append(x)\n",
    "    for y in amount['count']:\n",
    "        ys.append(y)\n",
    "    ax1.clear()\n",
    "    ax1.plot(xs, ys)\n",
    "ani = animation.FuncAnimation(fig, animate, interval=1000)\n",
    "plt.show()"
   ]
  },
  {
   "cell_type": "code",
   "execution_count": null,
   "metadata": {},
   "outputs": [],
   "source": []
  },
  {
   "cell_type": "code",
   "execution_count": null,
   "metadata": {},
   "outputs": [],
   "source": []
  }
 ],
 "metadata": {
  "kernelspec": {
   "display_name": "Python 3",
   "language": "python",
   "name": "python3"
  },
  "language_info": {
   "codemirror_mode": {
    "name": "ipython",
    "version": 3
   },
   "file_extension": ".py",
   "mimetype": "text/x-python",
   "name": "python",
   "nbconvert_exporter": "python",
   "pygments_lexer": "ipython3",
   "version": "3.8.3"
  }
 },
 "nbformat": 4,
 "nbformat_minor": 4
}
